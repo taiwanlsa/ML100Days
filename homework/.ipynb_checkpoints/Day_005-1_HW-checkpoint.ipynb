{
 "cells": [
  {
   "cell_type": "markdown",
   "metadata": {},
   "source": [
    "# [作業目標]\n",
    "- 利用範例的創建方式, 創建一組資料, 並練習如何取出最大值"
   ]
  },
  {
   "cell_type": "markdown",
   "metadata": {},
   "source": [
    "# [作業重點]\n",
    "- 練習創立 DataFrame (In[2])\n",
    "- 如何取出口數最多的國家 (In[3], Out[3])"
   ]
  },
  {
   "cell_type": "markdown",
   "metadata": {},
   "source": [
    "## 練習時間\n",
    "在小量的資料上，我們用眼睛就可以看得出來程式碼是否有跑出我們理想中的結果\n",
    "\n",
    "請嘗試想像一個你需要的資料結構 (裡面的值可以是隨機的)，然後用上述的方法把它變成 pandas DataFrame\n",
    "\n",
    "#### Ex: 想像一個 dataframe 有兩個欄位，一個是國家，一個是人口，求人口數最多的國家\n",
    "\n",
    "### Hints: [隨機產生數值](https://blog.csdn.net/christianashannon/article/details/78867204)"
   ]
  },
  {
   "cell_type": "code",
   "execution_count": 8,
   "metadata": {},
   "outputs": [],
   "source": [
    "import pandas as pd\n",
    "import numpy as np"
   ]
  },
  {
   "cell_type": "code",
   "execution_count": 46,
   "metadata": {},
   "outputs": [
    {
     "name": "stdout",
     "output_type": "stream",
     "text": [
      "   國家      人口\n",
      "0  a國  590000\n",
      "1  b國  340000\n",
      "2  c國  350000\n",
      "3  d國  310000\n",
      "4  e國  810000\n"
     ]
    }
   ],
   "source": [
    "import random\n",
    "country = ['a國','b國','c國','d國','e國']\n",
    "people = []\n",
    "for i in range(5):\n",
    "    a = random.randint(20,100)*10000\n",
    "    people.append(a)\n",
    "    \n",
    "data = {'國家': country ,\n",
    "        '人口': people }\n",
    "data = pd.DataFrame(data)\n",
    "#print(country)\n",
    "#print(people)\n",
    "print(data)"
   ]
  },
  {
   "cell_type": "code",
   "execution_count": 47,
   "metadata": {},
   "outputs": [
    {
     "name": "stdout",
     "output_type": "stream",
     "text": [
      "最多人口的國家： e國\n",
      "人口數為： 810000\n"
     ]
    }
   ],
   "source": [
    "people_max_index = data['人口'].idxmax()  #求\"人口\"最大數字索引值\n",
    "people_max_country = data.at[people_max_index, '國家'] #用索引值回求國家名稱\n",
    "people_max_number = data['人口'].max() #求人口最大數字\n",
    "print(\"最多人口的國家：\" , people_max_country)\n",
    "print(\"人口數為：\",people_max_number)"
   ]
  }
 ],
 "metadata": {
  "kernelspec": {
   "display_name": "Python 3",
   "language": "python",
   "name": "python3"
  },
  "language_info": {
   "codemirror_mode": {
    "name": "ipython",
    "version": 3
   },
   "file_extension": ".py",
   "mimetype": "text/x-python",
   "name": "python",
   "nbconvert_exporter": "python",
   "pygments_lexer": "ipython3",
   "version": "3.6.9"
  }
 },
 "nbformat": 4,
 "nbformat_minor": 2
}
